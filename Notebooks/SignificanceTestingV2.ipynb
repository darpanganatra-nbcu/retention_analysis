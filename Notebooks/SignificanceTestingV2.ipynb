{
 "cells": [
  {
   "cell_type": "code",
   "execution_count": 1,
   "metadata": {},
   "outputs": [],
   "source": [
    "import pandas as pd\n",
    "from scipy.stats import ttest_ind_from_stats\n",
    "from statsmodels.stats.proportion import proportions_ztest\n",
    "\n",
    "sig_df = pd.read_csv(\"../Data/general_results.csv\")\n",
    "sig_df = sig_df[sig_df.audiencecohort != 'holdoutgroup_braze']\n",
    "sig_df = sig_df.merge(sig_df.audiencecohort.str.split(\"_\", expand = True).rename(columns = {0:'Targetable', 1:'Cohort'}), \n",
    "                      left_index = True, \n",
    "                      right_index = True).drop(columns='audiencecohort')\n",
    "sig_df.reset_index(drop = True, inplace = True)\n",
    "\n",
    "def audience_cohort_parsing(row):\n",
    "    if row == 'paiddis':\n",
    "        return 'Paid Display'\n",
    "    elif row == 'paidsoc':\n",
    "        return 'Paid Social'\n",
    "    else:\n",
    "        return 'All Paid Media'\n",
    "\n",
    "def targetable_bool(row):\n",
    "    if row == 'targetablegroup':\n",
    "        return 'Targetable'\n",
    "    else:\n",
    "        return 'Holdout'\n",
    "\n",
    "sig_df['Cohort']=sig_df['Cohort'].apply(lambda row: audience_cohort_parsing(row))\n",
    "\n",
    "sig_df['Targetable']=sig_df['Targetable'].apply(lambda row: targetable_bool(row))\n",
    "\n",
    "def kpi_ttesting(dataframe, kpi_name):\n",
    "    print(kpi_name)\n",
    "    for name, group in dataframe.groupby('Cohort'):\n",
    "        print(name)\n",
    "        print(group[group['Targetable'] == 'Targetable'][kpi_name].values[0])\n",
    "        print(group[group['Targetable'] != 'Targetable'][kpi_name].values[0])\n",
    "        print('\\n\\n')"
   ]
  },
  {
   "cell_type": "markdown",
   "metadata": {},
   "source": [
    "# Repertoire Significance"
   ]
  },
  {
   "cell_type": "code",
   "execution_count": 16,
   "metadata": {},
   "outputs": [
    {
     "name": "stdout",
     "output_type": "stream",
     "text": [
      "All Paid Media\n",
      "Ttest_indResult(statistic=-79.13608200678196, pvalue=0.0)\n",
      "\n",
      "\n",
      "\n",
      "Paid Display\n",
      "Ttest_indResult(statistic=-81.28678071833545, pvalue=0.0)\n",
      "\n",
      "\n",
      "\n",
      "Paid Social\n",
      "Ttest_indResult(statistic=-79.28019027859482, pvalue=0.0)\n",
      "\n",
      "\n",
      "\n"
     ]
    }
   ],
   "source": [
    "for name, group in sig_df.groupby('Cohort'):\n",
    "    print(name)\n",
    "    print(ttest_ind_from_stats(mean1=group[group['Targetable'] == 'Targetable']['repertoire'].values[0], \n",
    "                         std1 = group[group['Targetable'] == 'Targetable']['repertoire_stddev'].values[0],\n",
    "                         nobs1 = group[group['Targetable'] == 'Targetable']['cohort_size'].values[0],\n",
    "                         mean2 = group[group['Targetable'] != 'Targetable']['repertoire'].values[0], \n",
    "                         std2 = group[group['Targetable'] != 'Targetable']['repertoire_stddev'].values[0],\n",
    "                         nobs2 = group[group['Targetable'] != 'Targetable']['cohort_size'].values[0]))\n",
    "    print('\\n\\n')"
   ]
  },
  {
   "cell_type": "markdown",
   "metadata": {},
   "source": [
    "# Usage Significance"
   ]
  },
  {
   "cell_type": "code",
   "execution_count": 19,
   "metadata": {},
   "outputs": [
    {
     "name": "stdout",
     "output_type": "stream",
     "text": [
      "All Paid Media\n",
      "Ttest_indResult(statistic=1.8580595252576375, pvalue=0.06316057543542367)\n",
      "\n",
      "\n",
      "\n",
      "Paid Display\n",
      "Ttest_indResult(statistic=-1.3887651715816656, pvalue=0.1649041833062342)\n",
      "\n",
      "\n",
      "\n",
      "Paid Social\n",
      "Ttest_indResult(statistic=2.876167574091575, pvalue=0.00402536334480449)\n",
      "\n",
      "\n",
      "\n"
     ]
    }
   ],
   "source": [
    "for name, group in sig_df.groupby('Cohort'):\n",
    "    print(name)\n",
    "    print(ttest_ind_from_stats(mean1=group[group['Targetable'] == 'Targetable']['usage'].values[0], \n",
    "                         std1 = group[group['Targetable'] == 'Targetable']['usage_stdv'].values[0],\n",
    "                         nobs1 = group[group['Targetable'] == 'Targetable']['cohort_size'].values[0],\n",
    "                         mean2 = group[group['Targetable'] != 'Targetable']['usage'].values[0], \n",
    "                         std2 = group[group['Targetable'] != 'Targetable']['usage_stdv'].values[0],\n",
    "                         nobs2 = group[group['Targetable'] != 'Targetable']['cohort_size'].values[0]))\n",
    "    print('\\n\\n')"
   ]
  },
  {
   "cell_type": "markdown",
   "metadata": {},
   "source": [
    "# Save Rate"
   ]
  },
  {
   "cell_type": "code",
   "execution_count": 12,
   "metadata": {},
   "outputs": [],
   "source": [
    "save_df = pd.read_csv('../Data/save_rate_results.csv', usecols=[0,1,2,3])\n",
    "\n",
    "save_df.dropna(inplace = True)\n",
    "\n",
    "save_df = save_df[save_df.audiencecohort != 'holdoutgroup_braze']\n",
    "save_df = save_df.merge(save_df.audiencecohort.str.split(\"_\", expand = True).rename(columns = {0:'Targetable', 1:'Cohort'}), left_index = True, right_index = True).drop(columns='audiencecohort')\n",
    "save_df.reset_index(drop = True, inplace = True)\n",
    "\n",
    "save_df['Cohort']=save_df['Cohort'].apply(lambda row: audience_cohort_parsing(row))\n",
    "\n",
    "save_df['Targetable']=save_df['Targetable'].apply(lambda row: targetable_bool(row))"
   ]
  },
  {
   "cell_type": "code",
   "execution_count": 18,
   "metadata": {},
   "outputs": [
    {
     "name": "stdout",
     "output_type": "stream",
     "text": [
      "All Paid Media\n",
      "saves:  [1171050.0, 35841.0]\n",
      "populations:  [5624357.0, 205301.0]\n",
      "p-value: 9.511100476883994e-299\n",
      "Paid Display\n",
      "saves:  [1208084.0, 37164.0]\n",
      "populations:  [5830882.0, 207066.0]\n",
      "p-value: 5.940930098639502e-206\n",
      "Paid Social\n",
      "saves:  [1208214.0, 37034.0]\n",
      "populations:  [5831423.0, 206525.0]\n",
      "p-value: 7.892945965711378e-208\n"
     ]
    }
   ],
   "source": [
    "for name, group in save_df.groupby('Cohort'):\n",
    "    print(name)\n",
    "#     print(\"saves: \", [group[group['Targetable'] == 'Targetable'].saves.values[0], group[group['Targetable'] != 'Targetable'].saves.values[0]])\n",
    "#     print(\"populations: \",[group[group['Targetable'] == 'Targetable'].save_rate_denom.values[0], group[group['Targetable'] != 'Targetable'].save_rate_denom.values[0]] )\n",
    "    print('p-value:', proportions_ztest(count = [group[group['Targetable'] == 'Targetable'].saves.values[0], group[group['Targetable'] != 'Targetable'].saves.values[0]],\n",
    "                      nobs = [group[group['Targetable'] == 'Targetable'].save_rate_denom.values[0], group[group['Targetable'] != 'Targetable'].save_rate_denom.values[0]])[1])\n"
   ]
  },
  {
   "cell_type": "markdown",
   "metadata": {},
   "source": [
    "# Winback Rate"
   ]
  },
  {
   "cell_type": "code",
   "execution_count": 19,
   "metadata": {},
   "outputs": [],
   "source": [
    "winback_df = pd.read_csv(\"../Data/winback_rate_results.csv\")\n",
    "\n",
    "winback_df = winback_df[winback_df.audiencecohort != 'holdoutgroup_braze']\n",
    "winback_df = winback_df.merge(winback_df.audiencecohort.str.split(\"_\", expand = True).rename(columns = {0:'Targetable', 1:'Cohort'}), left_index = True, right_index = True).drop(columns='audiencecohort')\n",
    "winback_df.reset_index(drop = True, inplace = True)\n",
    "\n",
    "winback_df['Cohort']=winback_df['Cohort'].apply(lambda row: audience_cohort_parsing(row))\n",
    "\n",
    "winback_df['Targetable']=winback_df['Targetable'].apply(lambda row: targetable_bool(row))"
   ]
  },
  {
   "cell_type": "code",
   "execution_count": 23,
   "metadata": {},
   "outputs": [
    {
     "name": "stdout",
     "output_type": "stream",
     "text": [
      "All Paid Media\n",
      "winbacks:  [1256518, 21819]\n",
      "populations:  [7096150, 160300]\n",
      "p-value: 0.0\n",
      "Paid Display\n",
      "winbacks:  [1278823, 22356]\n",
      "populations:  [7255425, 160033]\n",
      "p-value: 0.0\n",
      "Paid Social\n",
      "winbacks:  [1278874, 22305]\n",
      "populations:  [7256183, 159275]\n",
      "p-value: 5.011262883485263e-309\n"
     ]
    }
   ],
   "source": [
    "for name, group in winback_df.groupby('Cohort'):\n",
    "    print(name)\n",
    "    print(\"winbacks: \", [group[group['Targetable'] == 'Targetable'].winback_users.values[0], group[group['Targetable'] != 'Targetable'].winback_users.values[0]])\n",
    "    print(\"populations: \",[group[group['Targetable'] == 'Targetable'].lapsed_users.values[0], group[group['Targetable'] != 'Targetable'].lapsed_users.values[0]] )\n",
    "    print('p-value:', proportions_ztest(count = [group[group['Targetable'] == 'Targetable'].winback_users.values[0], group[group['Targetable'] != 'Targetable'].winback_users.values[0]],\n",
    "                      nobs = [group[group['Targetable'] == 'Targetable'].lapsed_users.values[0], group[group['Targetable'] != 'Targetable'].lapsed_users.values[0]])[1])\n"
   ]
  },
  {
   "cell_type": "code",
   "execution_count": null,
   "metadata": {},
   "outputs": [],
   "source": []
  }
 ],
 "metadata": {
  "kernelspec": {
   "display_name": "Python 3",
   "language": "python",
   "name": "python3"
  },
  "language_info": {
   "codemirror_mode": {
    "name": "ipython",
    "version": 3
   },
   "file_extension": ".py",
   "mimetype": "text/x-python",
   "name": "python",
   "nbconvert_exporter": "python",
   "pygments_lexer": "ipython3",
   "version": "3.8.6"
  }
 },
 "nbformat": 4,
 "nbformat_minor": 4
}
