{
 "cells": [
  {
   "cell_type": "code",
   "execution_count": 1,
   "metadata": {},
   "outputs": [],
   "source": [
    "from google.cloud import storage\n",
    "import glob\n",
    "import os\n",
    "\n",
    "def upload_blob(input_file):\n",
    "    os.environ['GOOGLE_APPLICATION_CREDENTIALS'] = \"INSERT_CREDENTIALS_HERE\"\n",
    "    storage_client = storage.Client()\n",
    "    bucket = storage_client.bucket('retention-analysis')\n",
    "    file_list = [x.split(\"/\")[-1] for x in glob.glob(f\"\"\"{input_file}/*.csv\"\"\")]\n",
    "    for file in file_list:\n",
    "        blob = bucket.blob(f\"\"\"{file}\"\"\")\n",
    "        blob.upload_from_filename(f\"{input_file}/{file}\")"
   ]
  },
  {
   "cell_type": "code",
   "execution_count": 2,
   "metadata": {},
   "outputs": [],
   "source": [
    "upload_blob(\"../Data/mParticleAudiences_160422Nov092020_1fe8\")"
   ]
  },
  {
   "cell_type": "code",
   "execution_count": null,
   "metadata": {},
   "outputs": [],
   "source": []
  }
 ],
 "metadata": {
  "kernelspec": {
   "display_name": "Python 3",
   "language": "python",
   "name": "python3"
  },
  "language_info": {
   "codemirror_mode": {
    "name": "ipython",
    "version": 3
   },
   "file_extension": ".py",
   "mimetype": "text/x-python",
   "name": "python",
   "nbconvert_exporter": "python",
   "pygments_lexer": "ipython3",
   "version": "3.8.6"
  }
 },
 "nbformat": 4,
 "nbformat_minor": 4
}
